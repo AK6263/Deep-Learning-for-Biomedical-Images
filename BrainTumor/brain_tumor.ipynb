{
  "nbformat": 4,
  "nbformat_minor": 0,
  "metadata": {
    "colab": {
      "name": "brain-tumor.ipynb",
      "provenance": []
    },
    "kernelspec": {
      "name": "python3",
      "display_name": "Python 3"
    },
    "language_info": {
      "name": "python"
    },
    "accelerator": "GPU"
  },
  "cells": [
    {
      "cell_type": "code",
      "source": [
        "import numpy as np\n",
        "import pandas as pd\n",
        "import matplotlib.pyplot as plt\n",
        "%matplotlib inline\n",
        "\n",
        "import tensorflow as tf\n",
        "from tensorflow.keras.preprocessing import image\n",
        "from keras.preprocessing.image import ImageDataGenerator,load_img, img_to_array\n",
        "from tensorflow.keras.metrics import categorical_crossentropy\n",
        "from keras.models import Sequential, Model\n",
        "from keras.layers import Conv2D, MaxPooling2D,GlobalAveragePooling2D\n",
        "from keras.layers import Activation, Dropout, BatchNormalization, Flatten, Dense, AvgPool2D,MaxPool2D\n",
        "from keras.models import Sequential, Model\n",
        "from tensorflow.keras.optimizers import Adam, SGD, RMSprop\n",
        "from keras import backend as K\n",
        "import cv2\n",
        "import shutil\n",
        "import glob\n",
        "import os\n",
        "from keras.applications.vgg16 import VGG16\n",
        "from tensorflow.keras.applications.resnet50 import ResNet50\n"
      ],
      "metadata": {
        "id": "QeQ49pS9ITP1"
      },
      "execution_count": 188,
      "outputs": []
    },
    {
      "cell_type": "code",
      "source": [
        "!rm -r ~/.kaggle\n",
        "! mkdir ~/.kaggle\n",
        "!cp /content/drive/MyDrive/kaggle.json ~/.kaggle\n",
        "! chmod 600 ~/.kaggle/kaggle.json"
      ],
      "metadata": {
        "id": "imvZzz6XXrc6"
      },
      "execution_count": 189,
      "outputs": []
    },
    {
      "cell_type": "code",
      "execution_count": 190,
      "metadata": {
        "colab": {
          "base_uri": "https://localhost:8080/"
        },
        "id": "hA7Zf4-JKWVZ",
        "outputId": "dd3402a8-211e-48cc-e3ba-246034736993"
      },
      "outputs": [
        {
          "output_type": "stream",
          "name": "stdout",
          "text": [
            "Requirement already satisfied: kaggle in /usr/local/lib/python3.7/dist-packages (1.5.12)\n",
            "Requirement already satisfied: requests in /usr/local/lib/python3.7/dist-packages (from kaggle) (2.23.0)\n",
            "Requirement already satisfied: six>=1.10 in /usr/local/lib/python3.7/dist-packages (from kaggle) (1.15.0)\n",
            "Requirement already satisfied: tqdm in /usr/local/lib/python3.7/dist-packages (from kaggle) (4.62.3)\n",
            "Requirement already satisfied: python-dateutil in /usr/local/lib/python3.7/dist-packages (from kaggle) (2.8.2)\n",
            "Requirement already satisfied: python-slugify in /usr/local/lib/python3.7/dist-packages (from kaggle) (5.0.2)\n",
            "Requirement already satisfied: certifi in /usr/local/lib/python3.7/dist-packages (from kaggle) (2021.10.8)\n",
            "Requirement already satisfied: urllib3 in /usr/local/lib/python3.7/dist-packages (from kaggle) (1.24.3)\n",
            "Requirement already satisfied: text-unidecode>=1.3 in /usr/local/lib/python3.7/dist-packages (from python-slugify->kaggle) (1.3)\n",
            "Requirement already satisfied: idna<3,>=2.5 in /usr/local/lib/python3.7/dist-packages (from requests->kaggle) (2.10)\n",
            "Requirement already satisfied: chardet<4,>=3.0.2 in /usr/local/lib/python3.7/dist-packages (from requests->kaggle) (3.0.4)\n",
            "brain-mri-images-for-brain-tumor-detection.zip: Skipping, found more recently modified local copy (use --force to force download)\n"
          ]
        }
      ],
      "source": [
        "! pip install kaggle\n",
        "! kaggle datasets download navoneel/brain-mri-images-for-brain-tumor-detection"
      ]
    },
    {
      "cell_type": "code",
      "source": [
        "! unzip /content/brain-mri-images-for-brain-tumor-detection.zip -d /content"
      ],
      "metadata": {
        "colab": {
          "base_uri": "https://localhost:8080/"
        },
        "id": "-EbdYG6XK6pY",
        "outputId": "15b1b082-1b3f-4f9d-afc7-02634a3d9920"
      },
      "execution_count": 191,
      "outputs": [
        {
          "output_type": "stream",
          "name": "stdout",
          "text": [
            "Archive:  /content/brain-mri-images-for-brain-tumor-detection.zip\n",
            "replace /content/brain_tumor_dataset/no/1 no.jpeg? [y]es, [n]o, [A]ll, [N]one, [r]ename: A\n",
            "  inflating: /content/brain_tumor_dataset/no/1 no.jpeg  \n",
            "  inflating: /content/brain_tumor_dataset/no/10 no.jpg  \n",
            "  inflating: /content/brain_tumor_dataset/no/11 no.jpg  \n",
            "  inflating: /content/brain_tumor_dataset/no/12 no.jpg  \n",
            "  inflating: /content/brain_tumor_dataset/no/13 no.jpg  \n",
            "  inflating: /content/brain_tumor_dataset/no/14 no.jpg  \n",
            "  inflating: /content/brain_tumor_dataset/no/15 no.jpg  \n",
            "  inflating: /content/brain_tumor_dataset/no/17 no.jpg  \n",
            "  inflating: /content/brain_tumor_dataset/no/18 no.jpg  \n",
            "  inflating: /content/brain_tumor_dataset/no/19 no.jpg  \n",
            "  inflating: /content/brain_tumor_dataset/no/2 no.jpeg  \n",
            "  inflating: /content/brain_tumor_dataset/no/20 no.jpg  \n",
            "  inflating: /content/brain_tumor_dataset/no/21 no.jpg  \n",
            "  inflating: /content/brain_tumor_dataset/no/22 no.jpg  \n",
            "  inflating: /content/brain_tumor_dataset/no/23 no.jpg  \n",
            "  inflating: /content/brain_tumor_dataset/no/24 no.jpg  \n",
            "  inflating: /content/brain_tumor_dataset/no/25 no.jpg  \n",
            "  inflating: /content/brain_tumor_dataset/no/26 no.jpg  \n",
            "  inflating: /content/brain_tumor_dataset/no/27 no.jpg  \n",
            "  inflating: /content/brain_tumor_dataset/no/28 no.jpg  \n",
            "  inflating: /content/brain_tumor_dataset/no/29 no.jpg  \n",
            "  inflating: /content/brain_tumor_dataset/no/3 no.jpg  \n",
            "  inflating: /content/brain_tumor_dataset/no/30 no.jpg  \n",
            "  inflating: /content/brain_tumor_dataset/no/31 no.jpg  \n",
            "  inflating: /content/brain_tumor_dataset/no/32 no.jpg  \n",
            "  inflating: /content/brain_tumor_dataset/no/33 no.jpg  \n",
            "  inflating: /content/brain_tumor_dataset/no/34 no.jpg  \n",
            "  inflating: /content/brain_tumor_dataset/no/35 no.jpg  \n",
            "  inflating: /content/brain_tumor_dataset/no/36 no.jpg  \n",
            "  inflating: /content/brain_tumor_dataset/no/37 no.jpg  \n",
            "  inflating: /content/brain_tumor_dataset/no/38 no.jpg  \n",
            "  inflating: /content/brain_tumor_dataset/no/39 no.jpg  \n",
            "  inflating: /content/brain_tumor_dataset/no/4 no.jpg  \n",
            "  inflating: /content/brain_tumor_dataset/no/40 no.jpg  \n",
            "  inflating: /content/brain_tumor_dataset/no/41 no.jpg  \n",
            "  inflating: /content/brain_tumor_dataset/no/42 no.jpg  \n",
            "  inflating: /content/brain_tumor_dataset/no/43 no.jpg  \n",
            "  inflating: /content/brain_tumor_dataset/no/44no.jpg  \n",
            "  inflating: /content/brain_tumor_dataset/no/45 no.jpg  \n",
            "  inflating: /content/brain_tumor_dataset/no/46 no.jpg  \n",
            "  inflating: /content/brain_tumor_dataset/no/47 no.jpg  \n",
            "  inflating: /content/brain_tumor_dataset/no/48 no.jpeg  \n",
            "  inflating: /content/brain_tumor_dataset/no/49 no.jpg  \n",
            "  inflating: /content/brain_tumor_dataset/no/5 no.jpg  \n",
            "  inflating: /content/brain_tumor_dataset/no/50 no.jpg  \n",
            "  inflating: /content/brain_tumor_dataset/no/6 no.jpg  \n",
            "  inflating: /content/brain_tumor_dataset/no/7 no.jpg  \n",
            "  inflating: /content/brain_tumor_dataset/no/8 no.jpg  \n",
            "  inflating: /content/brain_tumor_dataset/no/9 no.jpg  \n",
            "  inflating: /content/brain_tumor_dataset/no/N1.JPG  \n",
            "  inflating: /content/brain_tumor_dataset/no/N11.jpg  \n",
            "  inflating: /content/brain_tumor_dataset/no/N15.jpg  \n",
            "  inflating: /content/brain_tumor_dataset/no/N16.jpg  \n",
            "  inflating: /content/brain_tumor_dataset/no/N17.jpg  \n",
            "  inflating: /content/brain_tumor_dataset/no/N19.JPG  \n",
            "  inflating: /content/brain_tumor_dataset/no/N2.JPG  \n",
            "  inflating: /content/brain_tumor_dataset/no/N20.JPG  \n",
            "  inflating: /content/brain_tumor_dataset/no/N21.jpg  \n",
            "  inflating: /content/brain_tumor_dataset/no/N22.JPG  \n",
            "  inflating: /content/brain_tumor_dataset/no/N26.JPG  \n",
            "  inflating: /content/brain_tumor_dataset/no/N3.jpg  \n",
            "  inflating: /content/brain_tumor_dataset/no/N5.jpg  \n",
            "  inflating: /content/brain_tumor_dataset/no/N6.jpg  \n",
            "  inflating: /content/brain_tumor_dataset/no/No11.jpg  \n",
            "  inflating: /content/brain_tumor_dataset/no/No12.jpg  \n",
            "  inflating: /content/brain_tumor_dataset/no/No13.jpg  \n",
            "  inflating: /content/brain_tumor_dataset/no/No14.jpg  \n",
            "  inflating: /content/brain_tumor_dataset/no/No15.jpg  \n",
            "  inflating: /content/brain_tumor_dataset/no/No16.jpg  \n",
            "  inflating: /content/brain_tumor_dataset/no/No17.jpg  \n",
            "  inflating: /content/brain_tumor_dataset/no/No18.jpg  \n",
            "  inflating: /content/brain_tumor_dataset/no/No19.jpg  \n",
            "  inflating: /content/brain_tumor_dataset/no/No20.jpg  \n",
            "  inflating: /content/brain_tumor_dataset/no/No21.jpg  \n",
            "  inflating: /content/brain_tumor_dataset/no/No22.jpg  \n",
            "  inflating: /content/brain_tumor_dataset/no/no 1.jpg  \n",
            "  inflating: /content/brain_tumor_dataset/no/no 10.jpg  \n",
            "  inflating: /content/brain_tumor_dataset/no/no 100.jpg  \n",
            "  inflating: /content/brain_tumor_dataset/no/no 2.jpg  \n",
            "  inflating: /content/brain_tumor_dataset/no/no 3.jpg  \n",
            "  inflating: /content/brain_tumor_dataset/no/no 4.jpg  \n",
            "  inflating: /content/brain_tumor_dataset/no/no 5.jpeg  \n",
            "  inflating: /content/brain_tumor_dataset/no/no 6.jpg  \n",
            "  inflating: /content/brain_tumor_dataset/no/no 7.jpeg  \n",
            "  inflating: /content/brain_tumor_dataset/no/no 8.jpg  \n",
            "  inflating: /content/brain_tumor_dataset/no/no 89.jpg  \n",
            "  inflating: /content/brain_tumor_dataset/no/no 9.png  \n",
            "  inflating: /content/brain_tumor_dataset/no/no 90.jpg  \n",
            "  inflating: /content/brain_tumor_dataset/no/no 91.jpeg  \n",
            "  inflating: /content/brain_tumor_dataset/no/no 92.jpg  \n",
            "  inflating: /content/brain_tumor_dataset/no/no 923.jpg  \n",
            "  inflating: /content/brain_tumor_dataset/no/no 94.jpg  \n",
            "  inflating: /content/brain_tumor_dataset/no/no 95.jpg  \n",
            "  inflating: /content/brain_tumor_dataset/no/no 96.jpg  \n",
            "  inflating: /content/brain_tumor_dataset/no/no 97.jpg  \n",
            "  inflating: /content/brain_tumor_dataset/no/no 98.jpg  \n",
            "  inflating: /content/brain_tumor_dataset/no/no 99.jpg  \n",
            "  inflating: /content/brain_tumor_dataset/no/no.jpg  \n",
            "  inflating: /content/brain_tumor_dataset/yes/Y1.jpg  \n",
            "  inflating: /content/brain_tumor_dataset/yes/Y10.jpg  \n",
            "  inflating: /content/brain_tumor_dataset/yes/Y100.JPG  \n",
            "  inflating: /content/brain_tumor_dataset/yes/Y101.jpg  \n",
            "  inflating: /content/brain_tumor_dataset/yes/Y102.jpg  \n",
            "  inflating: /content/brain_tumor_dataset/yes/Y103.jpg  \n",
            "  inflating: /content/brain_tumor_dataset/yes/Y104.jpg  \n",
            "  inflating: /content/brain_tumor_dataset/yes/Y105.jpg  \n",
            "  inflating: /content/brain_tumor_dataset/yes/Y106.jpg  \n",
            "  inflating: /content/brain_tumor_dataset/yes/Y107.jpg  \n",
            "  inflating: /content/brain_tumor_dataset/yes/Y108.jpg  \n",
            "  inflating: /content/brain_tumor_dataset/yes/Y109.JPG  \n",
            "  inflating: /content/brain_tumor_dataset/yes/Y11.jpg  \n",
            "  inflating: /content/brain_tumor_dataset/yes/Y111.JPG  \n",
            "  inflating: /content/brain_tumor_dataset/yes/Y112.JPG  \n",
            "  inflating: /content/brain_tumor_dataset/yes/Y113.JPG  \n",
            "  inflating: /content/brain_tumor_dataset/yes/Y114.JPG  \n",
            "  inflating: /content/brain_tumor_dataset/yes/Y115.JPG  \n",
            "  inflating: /content/brain_tumor_dataset/yes/Y116.JPG  \n",
            "  inflating: /content/brain_tumor_dataset/yes/Y117.JPG  \n",
            "  inflating: /content/brain_tumor_dataset/yes/Y12.jpg  \n",
            "  inflating: /content/brain_tumor_dataset/yes/Y120.JPG  \n",
            "  inflating: /content/brain_tumor_dataset/yes/Y13.jpg  \n",
            "  inflating: /content/brain_tumor_dataset/yes/Y14.jpg  \n",
            "  inflating: /content/brain_tumor_dataset/yes/Y146.JPG  \n",
            "  inflating: /content/brain_tumor_dataset/yes/Y147.JPG  \n",
            "  inflating: /content/brain_tumor_dataset/yes/Y148.JPG  \n",
            "  inflating: /content/brain_tumor_dataset/yes/Y15.jpg  \n",
            "  inflating: /content/brain_tumor_dataset/yes/Y153.jpg  \n",
            "  inflating: /content/brain_tumor_dataset/yes/Y154.jpg  \n",
            "  inflating: /content/brain_tumor_dataset/yes/Y155.JPG  \n",
            "  inflating: /content/brain_tumor_dataset/yes/Y156.JPG  \n",
            "  inflating: /content/brain_tumor_dataset/yes/Y157.JPG  \n",
            "  inflating: /content/brain_tumor_dataset/yes/Y158.JPG  \n",
            "  inflating: /content/brain_tumor_dataset/yes/Y159.JPG  \n",
            "  inflating: /content/brain_tumor_dataset/yes/Y16.JPG  \n",
            "  inflating: /content/brain_tumor_dataset/yes/Y160.JPG  \n",
            "  inflating: /content/brain_tumor_dataset/yes/Y161.JPG  \n",
            "  inflating: /content/brain_tumor_dataset/yes/Y162.jpg  \n",
            "  inflating: /content/brain_tumor_dataset/yes/Y163.JPG  \n",
            "  inflating: /content/brain_tumor_dataset/yes/Y164.JPG  \n",
            "  inflating: /content/brain_tumor_dataset/yes/Y165.JPG  \n",
            "  inflating: /content/brain_tumor_dataset/yes/Y166.JPG  \n",
            "  inflating: /content/brain_tumor_dataset/yes/Y167.JPG  \n",
            "  inflating: /content/brain_tumor_dataset/yes/Y168.jpg  \n",
            "  inflating: /content/brain_tumor_dataset/yes/Y169.jpg  \n",
            "  inflating: /content/brain_tumor_dataset/yes/Y17.jpg  \n",
            "  inflating: /content/brain_tumor_dataset/yes/Y170.JPG  \n",
            "  inflating: /content/brain_tumor_dataset/yes/Y18.JPG  \n",
            "  inflating: /content/brain_tumor_dataset/yes/Y180.jpg  \n",
            "  inflating: /content/brain_tumor_dataset/yes/Y181.jpg  \n",
            "  inflating: /content/brain_tumor_dataset/yes/Y182.JPG  \n",
            "  inflating: /content/brain_tumor_dataset/yes/Y183.jpg  \n",
            "  inflating: /content/brain_tumor_dataset/yes/Y184.JPG  \n",
            "  inflating: /content/brain_tumor_dataset/yes/Y185.jpg  \n",
            "  inflating: /content/brain_tumor_dataset/yes/Y186.jpg  \n",
            "  inflating: /content/brain_tumor_dataset/yes/Y187.jpg  \n",
            "  inflating: /content/brain_tumor_dataset/yes/Y188.jpg  \n",
            "  inflating: /content/brain_tumor_dataset/yes/Y19.JPG  \n",
            "  inflating: /content/brain_tumor_dataset/yes/Y192.JPG  \n",
            "  inflating: /content/brain_tumor_dataset/yes/Y193.JPG  \n",
            "  inflating: /content/brain_tumor_dataset/yes/Y194.jpg  \n",
            "  inflating: /content/brain_tumor_dataset/yes/Y195.JPG  \n",
            "  inflating: /content/brain_tumor_dataset/yes/Y2.jpg  \n",
            "  inflating: /content/brain_tumor_dataset/yes/Y20.jpg  \n",
            "  inflating: /content/brain_tumor_dataset/yes/Y21.jpg  \n",
            "  inflating: /content/brain_tumor_dataset/yes/Y22.jpg  \n",
            "  inflating: /content/brain_tumor_dataset/yes/Y23.JPG  \n",
            "  inflating: /content/brain_tumor_dataset/yes/Y24.jpg  \n",
            "  inflating: /content/brain_tumor_dataset/yes/Y242.JPG  \n",
            "  inflating: /content/brain_tumor_dataset/yes/Y243.JPG  \n",
            "  inflating: /content/brain_tumor_dataset/yes/Y244.JPG  \n",
            "  inflating: /content/brain_tumor_dataset/yes/Y245.jpg  \n",
            "  inflating: /content/brain_tumor_dataset/yes/Y246.JPG  \n",
            "  inflating: /content/brain_tumor_dataset/yes/Y247.JPG  \n",
            "  inflating: /content/brain_tumor_dataset/yes/Y248.JPG  \n",
            "  inflating: /content/brain_tumor_dataset/yes/Y249.JPG  \n",
            "  inflating: /content/brain_tumor_dataset/yes/Y25.jpg  \n",
            "  inflating: /content/brain_tumor_dataset/yes/Y250.jpg  \n",
            "  inflating: /content/brain_tumor_dataset/yes/Y251.JPG  \n",
            "  inflating: /content/brain_tumor_dataset/yes/Y252.jpg  \n",
            "  inflating: /content/brain_tumor_dataset/yes/Y253.JPG  \n",
            "  inflating: /content/brain_tumor_dataset/yes/Y254.jpg  \n",
            "  inflating: /content/brain_tumor_dataset/yes/Y255.JPG  \n",
            "  inflating: /content/brain_tumor_dataset/yes/Y256.JPG  \n",
            "  inflating: /content/brain_tumor_dataset/yes/Y257.jpg  \n",
            "  inflating: /content/brain_tumor_dataset/yes/Y258.JPG  \n",
            "  inflating: /content/brain_tumor_dataset/yes/Y259.JPG  \n",
            "  inflating: /content/brain_tumor_dataset/yes/Y26.jpg  \n",
            "  inflating: /content/brain_tumor_dataset/yes/Y27.jpg  \n",
            "  inflating: /content/brain_tumor_dataset/yes/Y28.jpg  \n",
            "  inflating: /content/brain_tumor_dataset/yes/Y29.jpg  \n",
            "  inflating: /content/brain_tumor_dataset/yes/Y3.jpg  \n",
            "  inflating: /content/brain_tumor_dataset/yes/Y30.jpg  \n",
            "  inflating: /content/brain_tumor_dataset/yes/Y31.jpg  \n",
            "  inflating: /content/brain_tumor_dataset/yes/Y32.jpg  \n",
            "  inflating: /content/brain_tumor_dataset/yes/Y33.jpg  \n",
            "  inflating: /content/brain_tumor_dataset/yes/Y34.jpg  \n",
            "  inflating: /content/brain_tumor_dataset/yes/Y35.jpg  \n",
            "  inflating: /content/brain_tumor_dataset/yes/Y36.JPG  \n",
            "  inflating: /content/brain_tumor_dataset/yes/Y37.jpg  \n",
            "  inflating: /content/brain_tumor_dataset/yes/Y38.jpg  \n",
            "  inflating: /content/brain_tumor_dataset/yes/Y39.jpg  \n",
            "  inflating: /content/brain_tumor_dataset/yes/Y4.jpg  \n",
            "  inflating: /content/brain_tumor_dataset/yes/Y40.JPG  \n",
            "  inflating: /content/brain_tumor_dataset/yes/Y41.jpg  \n",
            "  inflating: /content/brain_tumor_dataset/yes/Y42.jpg  \n",
            "  inflating: /content/brain_tumor_dataset/yes/Y44.JPG  \n",
            "  inflating: /content/brain_tumor_dataset/yes/Y45.JPG  \n",
            "  inflating: /content/brain_tumor_dataset/yes/Y46.jpg  \n",
            "  inflating: /content/brain_tumor_dataset/yes/Y47.JPG  \n",
            "  inflating: /content/brain_tumor_dataset/yes/Y49.JPG  \n",
            "  inflating: /content/brain_tumor_dataset/yes/Y50.JPG  \n",
            "  inflating: /content/brain_tumor_dataset/yes/Y51.jpg  \n",
            "  inflating: /content/brain_tumor_dataset/yes/Y52.jpg  \n",
            "  inflating: /content/brain_tumor_dataset/yes/Y53.jpg  \n",
            "  inflating: /content/brain_tumor_dataset/yes/Y54.jpg  \n",
            "  inflating: /content/brain_tumor_dataset/yes/Y55.jpg  \n",
            "  inflating: /content/brain_tumor_dataset/yes/Y56.jpg  \n",
            "  inflating: /content/brain_tumor_dataset/yes/Y58.JPG  \n",
            "  inflating: /content/brain_tumor_dataset/yes/Y59.JPG  \n",
            "  inflating: /content/brain_tumor_dataset/yes/Y6.jpg  \n",
            "  inflating: /content/brain_tumor_dataset/yes/Y60.jpg  \n",
            "  inflating: /content/brain_tumor_dataset/yes/Y61.jpg  \n",
            "  inflating: /content/brain_tumor_dataset/yes/Y62.jpg  \n",
            "  inflating: /content/brain_tumor_dataset/yes/Y65.JPG  \n",
            "  inflating: /content/brain_tumor_dataset/yes/Y66.JPG  \n",
            "  inflating: /content/brain_tumor_dataset/yes/Y67.JPG  \n",
            "  inflating: /content/brain_tumor_dataset/yes/Y69.jpg  \n",
            "  inflating: /content/brain_tumor_dataset/yes/Y7.jpg  \n",
            "  inflating: /content/brain_tumor_dataset/yes/Y70.jpg  \n",
            "  inflating: /content/brain_tumor_dataset/yes/Y71.JPG  \n",
            "  inflating: /content/brain_tumor_dataset/yes/Y73.jpg  \n",
            "  inflating: /content/brain_tumor_dataset/yes/Y74.jpg  \n",
            "  inflating: /content/brain_tumor_dataset/yes/Y75.JPG  \n",
            "  inflating: /content/brain_tumor_dataset/yes/Y76.jpg  \n",
            "  inflating: /content/brain_tumor_dataset/yes/Y77.jpg  \n",
            "  inflating: /content/brain_tumor_dataset/yes/Y78.jpg  \n",
            "  inflating: /content/brain_tumor_dataset/yes/Y79.jpg  \n",
            "  inflating: /content/brain_tumor_dataset/yes/Y8.jpg  \n",
            "  inflating: /content/brain_tumor_dataset/yes/Y81.jpg  \n",
            "  inflating: /content/brain_tumor_dataset/yes/Y82.jpg  \n",
            "  inflating: /content/brain_tumor_dataset/yes/Y85.JPG  \n",
            "  inflating: /content/brain_tumor_dataset/yes/Y86.JPG  \n",
            "  inflating: /content/brain_tumor_dataset/yes/Y89.JPG  \n",
            "  inflating: /content/brain_tumor_dataset/yes/Y9.jpg  \n",
            "  inflating: /content/brain_tumor_dataset/yes/Y90.jpg  \n",
            "  inflating: /content/brain_tumor_dataset/yes/Y91.jpg  \n",
            "  inflating: /content/brain_tumor_dataset/yes/Y92.jpg  \n",
            "  inflating: /content/brain_tumor_dataset/yes/Y92.png  \n",
            "  inflating: /content/brain_tumor_dataset/yes/Y95.jpg  \n",
            "  inflating: /content/brain_tumor_dataset/yes/Y96.jpg  \n",
            "  inflating: /content/brain_tumor_dataset/yes/Y97.JPG  \n",
            "  inflating: /content/brain_tumor_dataset/yes/Y98.JPG  \n",
            "  inflating: /content/brain_tumor_dataset/yes/Y99.JPG  \n",
            "  inflating: /content/no/1 no.jpeg   \n",
            "  inflating: /content/no/10 no.jpg   \n",
            "  inflating: /content/no/11 no.jpg   \n",
            "  inflating: /content/no/12 no.jpg   \n",
            "  inflating: /content/no/13 no.jpg   \n",
            "  inflating: /content/no/14 no.jpg   \n",
            "  inflating: /content/no/15 no.jpg   \n",
            "  inflating: /content/no/17 no.jpg   \n",
            "  inflating: /content/no/18 no.jpg   \n",
            "  inflating: /content/no/19 no.jpg   \n",
            "  inflating: /content/no/2 no.jpeg   \n",
            "  inflating: /content/no/20 no.jpg   \n",
            "  inflating: /content/no/21 no.jpg   \n",
            "  inflating: /content/no/22 no.jpg   \n",
            "  inflating: /content/no/23 no.jpg   \n",
            "  inflating: /content/no/24 no.jpg   \n",
            "  inflating: /content/no/25 no.jpg   \n",
            "  inflating: /content/no/26 no.jpg   \n",
            "  inflating: /content/no/27 no.jpg   \n",
            "  inflating: /content/no/28 no.jpg   \n",
            "  inflating: /content/no/29 no.jpg   \n",
            "  inflating: /content/no/3 no.jpg    \n",
            "  inflating: /content/no/30 no.jpg   \n",
            "  inflating: /content/no/31 no.jpg   \n",
            "  inflating: /content/no/32 no.jpg   \n",
            "  inflating: /content/no/33 no.jpg   \n",
            "  inflating: /content/no/34 no.jpg   \n",
            "  inflating: /content/no/35 no.jpg   \n",
            "  inflating: /content/no/36 no.jpg   \n",
            "  inflating: /content/no/37 no.jpg   \n",
            "  inflating: /content/no/38 no.jpg   \n",
            "  inflating: /content/no/39 no.jpg   \n",
            "  inflating: /content/no/4 no.jpg    \n",
            "  inflating: /content/no/40 no.jpg   \n",
            "  inflating: /content/no/41 no.jpg   \n",
            "  inflating: /content/no/42 no.jpg   \n",
            "  inflating: /content/no/43 no.jpg   \n",
            "  inflating: /content/no/44no.jpg    \n",
            "  inflating: /content/no/45 no.jpg   \n",
            "  inflating: /content/no/46 no.jpg   \n",
            "  inflating: /content/no/47 no.jpg   \n",
            "  inflating: /content/no/48 no.jpeg  \n",
            "  inflating: /content/no/49 no.jpg   \n",
            "  inflating: /content/no/5 no.jpg    \n",
            "  inflating: /content/no/50 no.jpg   \n",
            "  inflating: /content/no/6 no.jpg    \n",
            "  inflating: /content/no/7 no.jpg    \n",
            "  inflating: /content/no/8 no.jpg    \n",
            "  inflating: /content/no/9 no.jpg    \n",
            "  inflating: /content/no/N1.JPG      \n",
            "  inflating: /content/no/N11.jpg     \n",
            "  inflating: /content/no/N15.jpg     \n",
            "  inflating: /content/no/N16.jpg     \n",
            "  inflating: /content/no/N17.jpg     \n",
            "  inflating: /content/no/N19.JPG     \n",
            "  inflating: /content/no/N2.JPG      \n",
            "  inflating: /content/no/N20.JPG     \n",
            "  inflating: /content/no/N21.jpg     \n",
            "  inflating: /content/no/N22.JPG     \n",
            "  inflating: /content/no/N26.JPG     \n",
            "  inflating: /content/no/N3.jpg      \n",
            "  inflating: /content/no/N5.jpg      \n",
            "  inflating: /content/no/N6.jpg      \n",
            "  inflating: /content/no/No11.jpg    \n",
            "  inflating: /content/no/No12.jpg    \n",
            "  inflating: /content/no/No13.jpg    \n",
            "  inflating: /content/no/No14.jpg    \n",
            "  inflating: /content/no/No15.jpg    \n",
            "  inflating: /content/no/No16.jpg    \n",
            "  inflating: /content/no/No17.jpg    \n",
            "  inflating: /content/no/No18.jpg    \n",
            "  inflating: /content/no/No19.jpg    \n",
            "  inflating: /content/no/No20.jpg    \n",
            "  inflating: /content/no/No21.jpg    \n",
            "  inflating: /content/no/No22.jpg    \n",
            "  inflating: /content/no/no 1.jpg    \n",
            "  inflating: /content/no/no 10.jpg   \n",
            "  inflating: /content/no/no 100.jpg  \n",
            "  inflating: /content/no/no 2.jpg    \n",
            "  inflating: /content/no/no 3.jpg    \n",
            "  inflating: /content/no/no 4.jpg    \n",
            "  inflating: /content/no/no 5.jpeg   \n",
            "  inflating: /content/no/no 6.jpg    \n",
            "  inflating: /content/no/no 7.jpeg   \n",
            "  inflating: /content/no/no 8.jpg    \n",
            "  inflating: /content/no/no 89.jpg   \n",
            "  inflating: /content/no/no 9.png    \n",
            "  inflating: /content/no/no 90.jpg   \n",
            "  inflating: /content/no/no 91.jpeg  \n",
            "  inflating: /content/no/no 92.jpg   \n",
            "  inflating: /content/no/no 923.jpg  \n",
            "  inflating: /content/no/no 94.jpg   \n",
            "  inflating: /content/no/no 95.jpg   \n",
            "  inflating: /content/no/no 96.jpg   \n",
            "  inflating: /content/no/no 97.jpg   \n",
            "  inflating: /content/no/no 98.jpg   \n",
            "  inflating: /content/no/no 99.jpg   \n",
            "  inflating: /content/no/no.jpg      \n",
            "  inflating: /content/yes/Y1.jpg     \n",
            "  inflating: /content/yes/Y10.jpg    \n",
            "  inflating: /content/yes/Y100.JPG   \n",
            "  inflating: /content/yes/Y101.jpg   \n",
            "  inflating: /content/yes/Y102.jpg   \n",
            "  inflating: /content/yes/Y103.jpg   \n",
            "  inflating: /content/yes/Y104.jpg   \n",
            "  inflating: /content/yes/Y105.jpg   \n",
            "  inflating: /content/yes/Y106.jpg   \n",
            "  inflating: /content/yes/Y107.jpg   \n",
            "  inflating: /content/yes/Y108.jpg   \n",
            "  inflating: /content/yes/Y109.JPG   \n",
            "  inflating: /content/yes/Y11.jpg    \n",
            "  inflating: /content/yes/Y111.JPG   \n",
            "  inflating: /content/yes/Y112.JPG   \n",
            "  inflating: /content/yes/Y113.JPG   \n",
            "  inflating: /content/yes/Y114.JPG   \n",
            "  inflating: /content/yes/Y115.JPG   \n",
            "  inflating: /content/yes/Y116.JPG   \n",
            "  inflating: /content/yes/Y117.JPG   \n",
            "  inflating: /content/yes/Y12.jpg    \n",
            "  inflating: /content/yes/Y120.JPG   \n",
            "  inflating: /content/yes/Y13.jpg    \n",
            "  inflating: /content/yes/Y14.jpg    \n",
            "  inflating: /content/yes/Y146.JPG   \n",
            "  inflating: /content/yes/Y147.JPG   \n",
            "  inflating: /content/yes/Y148.JPG   \n",
            "  inflating: /content/yes/Y15.jpg    \n",
            "  inflating: /content/yes/Y153.jpg   \n",
            "  inflating: /content/yes/Y154.jpg   \n",
            "  inflating: /content/yes/Y155.JPG   \n",
            "  inflating: /content/yes/Y156.JPG   \n",
            "  inflating: /content/yes/Y157.JPG   \n",
            "  inflating: /content/yes/Y158.JPG   \n",
            "  inflating: /content/yes/Y159.JPG   \n",
            "  inflating: /content/yes/Y16.JPG    \n",
            "  inflating: /content/yes/Y160.JPG   \n",
            "  inflating: /content/yes/Y161.JPG   \n",
            "  inflating: /content/yes/Y162.jpg   \n",
            "  inflating: /content/yes/Y163.JPG   \n",
            "  inflating: /content/yes/Y164.JPG   \n",
            "  inflating: /content/yes/Y165.JPG   \n",
            "  inflating: /content/yes/Y166.JPG   \n",
            "  inflating: /content/yes/Y167.JPG   \n",
            "  inflating: /content/yes/Y168.jpg   \n",
            "  inflating: /content/yes/Y169.jpg   \n",
            "  inflating: /content/yes/Y17.jpg    \n",
            "  inflating: /content/yes/Y170.JPG   \n",
            "  inflating: /content/yes/Y18.JPG    \n",
            "  inflating: /content/yes/Y180.jpg   \n",
            "  inflating: /content/yes/Y181.jpg   \n",
            "  inflating: /content/yes/Y182.JPG   \n",
            "  inflating: /content/yes/Y183.jpg   \n",
            "  inflating: /content/yes/Y184.JPG   \n",
            "  inflating: /content/yes/Y185.jpg   \n",
            "  inflating: /content/yes/Y186.jpg   \n",
            "  inflating: /content/yes/Y187.jpg   \n",
            "  inflating: /content/yes/Y188.jpg   \n",
            "  inflating: /content/yes/Y19.JPG    \n",
            "  inflating: /content/yes/Y192.JPG   \n",
            "  inflating: /content/yes/Y193.JPG   \n",
            "  inflating: /content/yes/Y194.jpg   \n",
            "  inflating: /content/yes/Y195.JPG   \n",
            "  inflating: /content/yes/Y2.jpg     \n",
            "  inflating: /content/yes/Y20.jpg    \n",
            "  inflating: /content/yes/Y21.jpg    \n",
            "  inflating: /content/yes/Y22.jpg    \n",
            "  inflating: /content/yes/Y23.JPG    \n",
            "  inflating: /content/yes/Y24.jpg    \n",
            "  inflating: /content/yes/Y242.JPG   \n",
            "  inflating: /content/yes/Y243.JPG   \n",
            "  inflating: /content/yes/Y244.JPG   \n",
            "  inflating: /content/yes/Y245.jpg   \n",
            "  inflating: /content/yes/Y246.JPG   \n",
            "  inflating: /content/yes/Y247.JPG   \n",
            "  inflating: /content/yes/Y248.JPG   \n",
            "  inflating: /content/yes/Y249.JPG   \n",
            "  inflating: /content/yes/Y25.jpg    \n",
            "  inflating: /content/yes/Y250.jpg   \n",
            "  inflating: /content/yes/Y251.JPG   \n",
            "  inflating: /content/yes/Y252.jpg   \n",
            "  inflating: /content/yes/Y253.JPG   \n",
            "  inflating: /content/yes/Y254.jpg   \n",
            "  inflating: /content/yes/Y255.JPG   \n",
            "  inflating: /content/yes/Y256.JPG   \n",
            "  inflating: /content/yes/Y257.jpg   \n",
            "  inflating: /content/yes/Y258.JPG   \n",
            "  inflating: /content/yes/Y259.JPG   \n",
            "  inflating: /content/yes/Y26.jpg    \n",
            "  inflating: /content/yes/Y27.jpg    \n",
            "  inflating: /content/yes/Y28.jpg    \n",
            "  inflating: /content/yes/Y29.jpg    \n",
            "  inflating: /content/yes/Y3.jpg     \n",
            "  inflating: /content/yes/Y30.jpg    \n",
            "  inflating: /content/yes/Y31.jpg    \n",
            "  inflating: /content/yes/Y32.jpg    \n",
            "  inflating: /content/yes/Y33.jpg    \n",
            "  inflating: /content/yes/Y34.jpg    \n",
            "  inflating: /content/yes/Y35.jpg    \n",
            "  inflating: /content/yes/Y36.JPG    \n",
            "  inflating: /content/yes/Y37.jpg    \n",
            "  inflating: /content/yes/Y38.jpg    \n",
            "  inflating: /content/yes/Y39.jpg    \n",
            "  inflating: /content/yes/Y4.jpg     \n",
            "  inflating: /content/yes/Y40.JPG    \n",
            "  inflating: /content/yes/Y41.jpg    \n",
            "  inflating: /content/yes/Y42.jpg    \n",
            "  inflating: /content/yes/Y44.JPG    \n",
            "  inflating: /content/yes/Y45.JPG    \n",
            "  inflating: /content/yes/Y46.jpg    \n",
            "  inflating: /content/yes/Y47.JPG    \n",
            "  inflating: /content/yes/Y49.JPG    \n",
            "  inflating: /content/yes/Y50.JPG    \n",
            "  inflating: /content/yes/Y51.jpg    \n",
            "  inflating: /content/yes/Y52.jpg    \n",
            "  inflating: /content/yes/Y53.jpg    \n",
            "  inflating: /content/yes/Y54.jpg    \n",
            "  inflating: /content/yes/Y55.jpg    \n",
            "  inflating: /content/yes/Y56.jpg    \n",
            "  inflating: /content/yes/Y58.JPG    \n",
            "  inflating: /content/yes/Y59.JPG    \n",
            "  inflating: /content/yes/Y6.jpg     \n",
            "  inflating: /content/yes/Y60.jpg    \n",
            "  inflating: /content/yes/Y61.jpg    \n",
            "  inflating: /content/yes/Y62.jpg    \n",
            "  inflating: /content/yes/Y65.JPG    \n",
            "  inflating: /content/yes/Y66.JPG    \n",
            "  inflating: /content/yes/Y67.JPG    \n",
            "  inflating: /content/yes/Y69.jpg    \n",
            "  inflating: /content/yes/Y7.jpg     \n",
            "  inflating: /content/yes/Y70.jpg    \n",
            "  inflating: /content/yes/Y71.JPG    \n",
            "  inflating: /content/yes/Y73.jpg    \n",
            "  inflating: /content/yes/Y74.jpg    \n",
            "  inflating: /content/yes/Y75.JPG    \n",
            "  inflating: /content/yes/Y76.jpg    \n",
            "  inflating: /content/yes/Y77.jpg    \n",
            "  inflating: /content/yes/Y78.jpg    \n",
            "  inflating: /content/yes/Y79.jpg    \n",
            "  inflating: /content/yes/Y8.jpg     \n",
            "  inflating: /content/yes/Y81.jpg    \n",
            "  inflating: /content/yes/Y82.jpg    \n",
            "  inflating: /content/yes/Y85.JPG    \n",
            "  inflating: /content/yes/Y86.JPG    \n",
            "  inflating: /content/yes/Y89.JPG    \n",
            "  inflating: /content/yes/Y9.jpg     \n",
            "  inflating: /content/yes/Y90.jpg    \n",
            "  inflating: /content/yes/Y91.jpg    \n",
            "  inflating: /content/yes/Y92.jpg    \n",
            "  inflating: /content/yes/Y92.png    \n",
            "  inflating: /content/yes/Y95.jpg    \n",
            "  inflating: /content/yes/Y96.jpg    \n",
            "  inflating: /content/yes/Y97.JPG    \n",
            "  inflating: /content/yes/Y98.JPG    \n",
            "  inflating: /content/yes/Y99.JPG    \n"
          ]
        }
      ]
    },
    {
      "cell_type": "code",
      "source": [
        "!rm -r /content/no\n",
        "!rm -r /content/yes"
      ],
      "metadata": {
        "id": "8XVZ5vPBQCV-"
      },
      "execution_count": 192,
      "outputs": []
    },
    {
      "cell_type": "code",
      "source": [
        "data = \"/content/brain_tumor_dataset\"\n",
        "No_brain_tumor = \"/content/brain_tumor_dataset/no\"\n",
        "Yes_brain_tumor = \"/content/brain_tumor_dataset/yes\""
      ],
      "metadata": {
        "id": "RGh0tzdkQRlH"
      },
      "execution_count": 193,
      "outputs": []
    },
    {
      "cell_type": "code",
      "source": [
        "dirlist=[No_brain_tumor, Yes_brain_tumor]\n",
        "classes=['No', 'Yes']\n",
        "filepaths=[]\n",
        "labels=[]\n",
        "for i,j in zip(dirlist, classes):\n",
        "    filelist=os.listdir(i)\n",
        "    for f in filelist:\n",
        "        filepath=os.path.join (i,f)\n",
        "        filepaths.append(filepath)\n",
        "        labels.append(j)\n",
        "print ('filepaths: ', len(filepaths), '   labels: ', len(labels))"
      ],
      "metadata": {
        "colab": {
          "base_uri": "https://localhost:8080/"
        },
        "id": "EoW7WuqWPrhN",
        "outputId": "4e18339e-5a3d-4da4-ae23-df5d4d3f2b67"
      },
      "execution_count": 194,
      "outputs": [
        {
          "output_type": "stream",
          "name": "stdout",
          "text": [
            "filepaths:  253    labels:  253\n"
          ]
        }
      ]
    },
    {
      "cell_type": "code",
      "source": [
        "Files=pd.Series(filepaths, name='filepaths')\n",
        "Label=pd.Series(labels, name='labels')\n",
        "df=pd.concat([Files,Label], axis=1)\n",
        "df=pd.DataFrame(np.array(df).reshape(253,2), columns = ['filepaths', 'labels'])\n",
        "df.head()"
      ],
      "metadata": {
        "colab": {
          "base_uri": "https://localhost:8080/",
          "height": 206
        },
        "id": "jjQVo_5GULVQ",
        "outputId": "7a87f5f5-5877-4ed1-a4a1-d3c9aedc1b77"
      },
      "execution_count": 195,
      "outputs": [
        {
          "output_type": "execute_result",
          "data": {
            "text/html": [
              "<div>\n",
              "<style scoped>\n",
              "    .dataframe tbody tr th:only-of-type {\n",
              "        vertical-align: middle;\n",
              "    }\n",
              "\n",
              "    .dataframe tbody tr th {\n",
              "        vertical-align: top;\n",
              "    }\n",
              "\n",
              "    .dataframe thead th {\n",
              "        text-align: right;\n",
              "    }\n",
              "</style>\n",
              "<table border=\"1\" class=\"dataframe\">\n",
              "  <thead>\n",
              "    <tr style=\"text-align: right;\">\n",
              "      <th></th>\n",
              "      <th>filepaths</th>\n",
              "      <th>labels</th>\n",
              "    </tr>\n",
              "  </thead>\n",
              "  <tbody>\n",
              "    <tr>\n",
              "      <th>0</th>\n",
              "      <td>/content/brain_tumor_dataset/no/N22.JPG</td>\n",
              "      <td>No</td>\n",
              "    </tr>\n",
              "    <tr>\n",
              "      <th>1</th>\n",
              "      <td>/content/brain_tumor_dataset/no/no 8.jpg</td>\n",
              "      <td>No</td>\n",
              "    </tr>\n",
              "    <tr>\n",
              "      <th>2</th>\n",
              "      <td>/content/brain_tumor_dataset/no/44no.jpg</td>\n",
              "      <td>No</td>\n",
              "    </tr>\n",
              "    <tr>\n",
              "      <th>3</th>\n",
              "      <td>/content/brain_tumor_dataset/no/no 99.jpg</td>\n",
              "      <td>No</td>\n",
              "    </tr>\n",
              "    <tr>\n",
              "      <th>4</th>\n",
              "      <td>/content/brain_tumor_dataset/no/no 9.png</td>\n",
              "      <td>No</td>\n",
              "    </tr>\n",
              "  </tbody>\n",
              "</table>\n",
              "</div>"
            ],
            "text/plain": [
              "                                   filepaths labels\n",
              "0    /content/brain_tumor_dataset/no/N22.JPG     No\n",
              "1   /content/brain_tumor_dataset/no/no 8.jpg     No\n",
              "2   /content/brain_tumor_dataset/no/44no.jpg     No\n",
              "3  /content/brain_tumor_dataset/no/no 99.jpg     No\n",
              "4   /content/brain_tumor_dataset/no/no 9.png     No"
            ]
          },
          "metadata": {},
          "execution_count": 195
        }
      ]
    },
    {
      "cell_type": "code",
      "source": [
        "print(df['labels'].value_counts())"
      ],
      "metadata": {
        "colab": {
          "base_uri": "https://localhost:8080/"
        },
        "id": "nA-lSsC4OJwZ",
        "outputId": "7743d4e8-586c-4e7f-bd40-76e3d594f8cd"
      },
      "execution_count": 196,
      "outputs": [
        {
          "output_type": "stream",
          "name": "stdout",
          "text": [
            "Yes    155\n",
            "No      98\n",
            "Name: labels, dtype: int64\n"
          ]
        }
      ]
    },
    {
      "cell_type": "code",
      "source": [
        "plt.figure(figsize=(12,8))\n",
        "for i in range(5):\n",
        "    random = np.random.randint(1,len(df))\n",
        "    plt.subplot(3,5,i+1)\n",
        "    plt.imshow(cv2.imread(df.loc[random,\"filepaths\"]))\n",
        "    plt.title(df.loc[random, \"labels\"], size = 15, color = \"white\") \n",
        "    plt.xticks([])\n",
        "    plt.yticks([])\n",
        "    \n",
        "plt.show()"
      ],
      "metadata": {
        "colab": {
          "base_uri": "https://localhost:8080/",
          "height": 180
        },
        "id": "S2zIU94rwb2B",
        "outputId": "da84b2cf-c0c8-410b-a01b-0564aa2ea0c5"
      },
      "execution_count": 197,
      "outputs": [
        {
          "output_type": "display_data",
          "data": {
            "image/png": "[encoded data removed]",
            "text/plain": [
              "<Figure size 864x576 with 5 Axes>"
            ]
          },
          "metadata": {}
        }
      ]
    },
    {
      "cell_type": "code",
      "source": [
        "from sklearn.model_selection import train_test_split\n",
        "\n",
        "train, test = train_test_split(df, train_size=0.95, random_state=0)\n",
        "train_new, valid = train_test_split(train, train_size=0.90, random_state=0)\n",
        "\n",
        "print(f\"train set shape: {train_new.shape}\")\n",
        "print(f\"test set shape: {test.shape}\")\n",
        "print(f\"validation set shape: {valid.shape}\")"
      ],
      "metadata": {
        "colab": {
          "base_uri": "https://localhost:8080/"
        },
        "id": "I5gbt5xIOMA6",
        "outputId": "b3e0e86b-ef4e-4b6a-9bac-4db3cec1bf03"
      },
      "execution_count": 198,
      "outputs": [
        {
          "output_type": "stream",
          "name": "stdout",
          "text": [
            "train set shape: (216, 2)\n",
            "test set shape: (13, 2)\n",
            "validation set shape: (24, 2)\n"
          ]
        }
      ]
    },
    {
      "cell_type": "code",
      "source": [
        "train_datagen = ImageDataGenerator(rescale = 1./255.,rotation_range = 40, width_shift_range = 0.2, height_shift_range = 0.2, \n",
        "                                   shear_range = 0.2, zoom_range = 0.2, horizontal_flip = True, vertical_flip =True)\n",
        "test_datagen = ImageDataGenerator(rescale = 1.0/255.)"
      ],
      "metadata": {
        "id": "MpR6JdBkUbqc"
      },
      "execution_count": 199,
      "outputs": []
    },
    {
      "cell_type": "code",
      "source": [
        "train_gen = train_datagen.flow_from_dataframe(dataframe = train_new,\n",
        "                                              x_col = 'filepaths', y_col ='labels',\n",
        "                                              target_size = (150,150), batch_size = 16, \n",
        "                                              class_mode = 'binary', shuffle = True)\n",
        "val_gen = train_datagen.flow_from_dataframe(valid, \n",
        "                                            target_size=(150,150), x_col = 'filepaths', y_col ='labels', \n",
        "                                            class_mode='binary',\n",
        "                                            batch_size= 16, shuffle=True)\n",
        "test_gen = test_datagen.flow_from_dataframe(test,\n",
        "                                            target_size = (150,150), x_col = 'filepaths', y_col ='labels',\n",
        "                                             class_mode = 'binary',\n",
        "                                            batch_size = 16, shuffle = False)\n"
      ],
      "metadata": {
        "id": "3mdIEh0QUg41",
        "colab": {
          "base_uri": "https://localhost:8080/"
        },
        "outputId": "50f5d08e-7b0b-4cfd-a24a-c100a949076f"
      },
      "execution_count": 200,
      "outputs": [
        {
          "output_type": "stream",
          "name": "stdout",
          "text": [
            "Found 216 validated image filenames belonging to 2 classes.\n",
            "Found 24 validated image filenames belonging to 2 classes.\n",
            "Found 13 validated image filenames belonging to 2 classes.\n"
          ]
        }
      ]
    },
    {
      "cell_type": "code",
      "source": [
        "train_gen.class_indices"
      ],
      "metadata": {
        "id": "4Hyi1-GwVAxQ",
        "colab": {
          "base_uri": "https://localhost:8080/"
        },
        "outputId": "be03b015-a4d1-4956-f1d4-531dd648b565"
      },
      "execution_count": 201,
      "outputs": [
        {
          "output_type": "execute_result",
          "data": {
            "text/plain": [
              "{'No': 0, 'Yes': 1}"
            ]
          },
          "metadata": {},
          "execution_count": 201
        }
      ]
    },
    {
      "cell_type": "code",
      "source": [
        "base_model = tf.keras.applications.InceptionResNetV2(weights='imagenet', input_shape = (200,200,3), include_top=False)\n",
        "    \n",
        "model = Sequential()\n",
        "model.add(base_model)\n",
        "model.add(tf.keras.layers.GlobalAveragePooling2D())\n",
        "model.add(Dense(128, activation = 'relu'))\n",
        "model.add(BatchNormalization())\n",
        "model.add(Dropout(0.2))\n",
        "model.add(Dense(1, activation = 'sigmoid'))\n",
        "model.summary()"
      ],
      "metadata": {
        "colab": {
          "base_uri": "https://localhost:8080/"
        },
        "id": "9ccCSDkUVW8D",
        "outputId": "26e56d7a-0022-4a74-dfc9-60dbabb5b012"
      },
      "execution_count": 202,
      "outputs": [
        {
          "output_type": "stream",
          "name": "stdout",
          "text": [
            "Model: \"sequential_31\"\n",
            "_________________________________________________________________\n",
            " Layer (type)                Output Shape              Param #   \n",
            "=================================================================\n",
            " inception_resnet_v2 (Functi  (None, 4, 4, 1536)       54336736  \n",
            " onal)                                                           \n",
            "                                                                 \n",
            " global_average_pooling2d_12  (None, 1536)             0         \n",
            "  (GlobalAveragePooling2D)                                       \n",
            "                                                                 \n",
            " dense_68 (Dense)            (None, 128)               196736    \n",
            "                                                                 \n",
            " batch_normalization_6118 (B  (None, 128)              512       \n",
            " atchNormalization)                                              \n",
            "                                                                 \n",
            " dropout_26 (Dropout)        (None, 128)               0         \n",
            "                                                                 \n",
            " dense_69 (Dense)            (None, 1)                 129       \n",
            "                                                                 \n",
            "=================================================================\n",
            "Total params: 54,534,113\n",
            "Trainable params: 54,473,313\n",
            "Non-trainable params: 60,800\n",
            "_________________________________________________________________\n"
          ]
        }
      ]
    },
    {
      "cell_type": "code",
      "source": [
        "callbacks = [\n",
        "    tf.keras.callbacks.ModelCheckpoint(\"Tumor_classifier_model.h5\", save_best_only=True, verbose = 1),\n",
        "    tf.keras.callbacks.EarlyStopping(patience=3, monitor='val_loss', verbose=1),\n",
        "]\n",
        "\n",
        "\n",
        "model.compile(loss='binary_crossentropy', optimizer=Adam(learning_rate = 0.0001), metrics=['accuracy'])\n",
        "\n",
        "\n",
        "history = model.fit(train_gen, validation_data = val_gen, epochs = 40, \n",
        "                    callbacks = [callbacks], verbose = 1)"
      ],
      "metadata": {
        "colab": {
          "base_uri": "https://localhost:8080/"
        },
        "id": "cEwjJOMGtGot",
        "outputId": "d2fac2ae-4a06-406b-e52b-d37b022dcde5"
      },
      "execution_count": 203,
      "outputs": [
        {
          "output_type": "stream",
          "name": "stdout",
          "text": [
            "Epoch 1/40\n",
            "14/14 [==============================] - ETA: 0s - loss: 0.7123 - accuracy: 0.6574\n",
            "Epoch 00001: val_loss improved from inf to 1.02759, saving model to Tumor_classifier_model.h5\n",
            "14/14 [==============================] - 40s 1s/step - loss: 0.7123 - accuracy: 0.6574 - val_loss: 1.0276 - val_accuracy: 0.5417\n",
            "Epoch 2/40\n",
            "14/14 [==============================] - ETA: 0s - loss: 0.4620 - accuracy: 0.7917\n",
            "Epoch 00002: val_loss improved from 1.02759 to 0.65577, saving model to Tumor_classifier_model.h5\n",
            "14/14 [==============================] - 10s 714ms/step - loss: 0.4620 - accuracy: 0.7917 - val_loss: 0.6558 - val_accuracy: 0.7500\n",
            "Epoch 3/40\n",
            "14/14 [==============================] - ETA: 0s - loss: 0.3924 - accuracy: 0.8611\n",
            "Epoch 00003: val_loss improved from 0.65577 to 0.58920, saving model to Tumor_classifier_model.h5\n",
            "14/14 [==============================] - 10s 717ms/step - loss: 0.3924 - accuracy: 0.8611 - val_loss: 0.5892 - val_accuracy: 0.7500\n",
            "Epoch 4/40\n",
            "14/14 [==============================] - ETA: 0s - loss: 0.2911 - accuracy: 0.8657\n",
            "Epoch 00004: val_loss improved from 0.58920 to 0.55183, saving model to Tumor_classifier_model.h5\n",
            "14/14 [==============================] - 10s 744ms/step - loss: 0.2911 - accuracy: 0.8657 - val_loss: 0.5518 - val_accuracy: 0.8333\n",
            "Epoch 5/40\n",
            "14/14 [==============================] - ETA: 0s - loss: 0.3489 - accuracy: 0.8796\n",
            "Epoch 00005: val_loss improved from 0.55183 to 0.49144, saving model to Tumor_classifier_model.h5\n",
            "14/14 [==============================] - 11s 835ms/step - loss: 0.3489 - accuracy: 0.8796 - val_loss: 0.4914 - val_accuracy: 0.7083\n",
            "Epoch 6/40\n",
            "14/14 [==============================] - ETA: 0s - loss: 0.3221 - accuracy: 0.8750\n",
            "Epoch 00006: val_loss did not improve from 0.49144\n",
            "14/14 [==============================] - 6s 428ms/step - loss: 0.3221 - accuracy: 0.8750 - val_loss: 0.6838 - val_accuracy: 0.8333\n",
            "Epoch 7/40\n",
            "14/14 [==============================] - ETA: 0s - loss: 0.1945 - accuracy: 0.9213\n",
            "Epoch 00007: val_loss did not improve from 0.49144\n",
            "14/14 [==============================] - 6s 426ms/step - loss: 0.1945 - accuracy: 0.9213 - val_loss: 0.5553 - val_accuracy: 0.7917\n",
            "Epoch 8/40\n",
            "14/14 [==============================] - ETA: 0s - loss: 0.2151 - accuracy: 0.9213\n",
            "Epoch 00008: val_loss did not improve from 0.49144\n",
            "14/14 [==============================] - 6s 423ms/step - loss: 0.2151 - accuracy: 0.9213 - val_loss: 0.5487 - val_accuracy: 0.8333\n",
            "Epoch 00008: early stopping\n"
          ]
        }
      ]
    },
    {
      "cell_type": "code",
      "source": [
        "model.load_weights(\"Tumor_classifier_model.h5\")\n",
        "model.evaluate(test_gen)"
      ],
      "metadata": {
        "colab": {
          "base_uri": "https://localhost:8080/"
        },
        "id": "vq9AAntktLgp",
        "outputId": "bc3cb6e9-42f6-4cf2-d9ac-7c67dcf2c7d0"
      },
      "execution_count": 204,
      "outputs": [
        {
          "output_type": "stream",
          "name": "stdout",
          "text": [
            "1/1 [==============================] - 0s 221ms/step - loss: 0.1728 - accuracy: 1.0000\n"
          ]
        },
        {
          "output_type": "execute_result",
          "data": {
            "text/plain": [
              "[0.1728484332561493, 1.0]"
            ]
          },
          "metadata": {},
          "execution_count": 204
        }
      ]
    },
    {
      "cell_type": "code",
      "source": [
        "acc = history.history['accuracy']\n",
        "val_acc = history.history['val_accuracy']\n",
        "loss = history.history['loss']\n",
        "val_loss = history.history['val_loss']\n",
        "epochs_range = range(1, len(history.epoch) + 1)\n",
        "\n",
        "plt.figure(figsize=(15,5))\n",
        "\n",
        "plt.subplot(1, 2, 1)\n",
        "plt.plot(epochs_range, acc, label='Train Set')\n",
        "plt.plot(epochs_range, val_acc, label='Val Set')\n",
        "plt.legend(loc=\"best\")\n",
        "plt.xlabel('Epochs')\n",
        "plt.ylabel('Accuracy')\n",
        "plt.title('Model Accuracy')\n",
        "\n",
        "plt.subplot(1, 2, 2)\n",
        "plt.plot(epochs_range, loss, label='Train Set')\n",
        "plt.plot(epochs_range, val_loss, label='Val Set')\n",
        "plt.legend(loc=\"best\")\n",
        "plt.xlabel('Epochs')\n",
        "plt.ylabel('Loss')\n",
        "plt.title('Model Loss')\n",
        "\n",
        "plt.tight_layout()\n",
        "plt.show()"
      ],
      "metadata": {
        "colab": {
          "base_uri": "https://localhost:8080/",
          "height": 369
        },
        "id": "x4EtsL3LVwAZ",
        "outputId": "4c3ca37a-a963-4732-a6c5-79a1412c3ff2"
      },
      "execution_count": 205,
      "outputs": [
        {
          "output_type": "display_data",
          "data": {
            "image/png": "[encoded data removed]",
            "text/plain": [
              "<Figure size 1080x360 with 2 Axes>"
            ]
          },
          "metadata": {
            "needs_background": "light"
          }
        }
      ]
    }
  ]
}